{
 "cells": [
  {
   "cell_type": "markdown",
   "id": "14fb98cb",
   "metadata": {},
   "source": [
    "## Next-VolumeMap Prediction with Convolutional LSTMs \n",
    "\n",
    "> * https://www.youtube.com/watch?v=fmga0i0MXuU&feature=youtu.be \n",
    "> * Code: https://github.com/lukas/ml-class/tree/master/videos/video-predict "
   ]
  },
  {
   "cell_type": "code",
   "execution_count": 1,
   "id": "97872ea5",
   "metadata": {},
   "outputs": [],
   "source": [
    "import warnings\n",
    "warnings.filterwarnings('ignore')\n",
    "\n",
    "import h3\n",
    "import json\n",
    "import folium\n",
    "from geojson.feature import *\n",
    "import branca.colormap as cm \n",
    "from folium import Map, Marker, GeoJson \n",
    "\n",
    "import numpy as np\n",
    "import pandas as pd \n",
    "import matplotlib.pyplot as plt\n",
    "\n",
    "import matplotlib.pyplot as plt\n",
    "import os\n",
    "os.environ[\"CUDA_VISIBLE_DEVICES\"]=\"1\""
   ]
  },
  {
   "cell_type": "code",
   "execution_count": 2,
   "id": "d90f725b",
   "metadata": {},
   "outputs": [],
   "source": [
    "import tensorflow as tf\n",
    "from tensorflow import keras\n",
    "from tensorflow.keras import layers\n",
    "\n",
    "import io\n",
    "import imageio\n",
    "from IPython.display import Image, display\n",
    "from ipywidgets import widgets, Layout, HBox "
   ]
  },
  {
   "cell_type": "code",
   "execution_count": 3,
   "id": "218acd9c",
   "metadata": {},
   "outputs": [],
   "source": [
    "use_columns = ['date', 'from_lat', 'from_lon', 'status', 'geozone_id']\n",
    "\n",
    "incoming_orders = pd.read_csv(\"mytaxi_test_max_taxi_incoming_orders.csv\", usecols=use_columns)\n",
    "\n",
    "incoming_orders = incoming_orders[incoming_orders.status == 7][:]\n",
    "# incoming_orders = incoming_orders[incoming_orders.geozone_id == 3][:]   \n",
    "\n",
    "incoming_orders.drop(columns=['status', 'geozone_id'], inplace=True)"
   ]
  },
  {
   "cell_type": "code",
   "execution_count": 4,
   "id": "1ea2a850",
   "metadata": {},
   "outputs": [],
   "source": [
    "hexagons_gridDF = pd.read_csv(\"hexagons_grid.csv\") "
   ]
  },
  {
   "cell_type": "code",
   "execution_count": 5,
   "id": "98b8b46e",
   "metadata": {},
   "outputs": [
    {
     "name": "stdout",
     "output_type": "stream",
     "text": [
      "Min date: 2021-01-01 00:01:06\n",
      "Max date: 2022-02-28 23:59:21\n"
     ]
    }
   ],
   "source": [
    "incoming_orders['date'] = incoming_orders['date'].astype('datetime64[ns]')  \n",
    "\n",
    "print(\"Min date: {}\".format(incoming_orders['date'].min()))\n",
    "print(\"Max date: {}\".format(incoming_orders['date'].max()))"
   ]
  },
  {
   "cell_type": "code",
   "execution_count": 6,
   "id": "de2ac6bb",
   "metadata": {},
   "outputs": [],
   "source": [
    "def get_volume_map(df, hex_df): \n",
    "    ## only keeping long, lat \n",
    "    \n",
    "    if df.shape[0] > 0: \n",
    "        df = df[[\"from_lat\", \"from_lon\"]] \n",
    "\n",
    "        df[\"hex_id\"] = df.apply(lambda row: h3.geo_to_h3(row[\"from_lat\"], row[\"from_lon\"], resolution), axis = 1) \n",
    "\n",
    "        df = df.groupby(by = \"hex_id\").size().reset_index() \n",
    "        df.columns = [\"hex_id\", \"value\"] \n",
    "\n",
    "        ### merging with hex_df \n",
    "        df = pd.merge(hex_df, df, on='hex_id', how='left')  \n",
    "        df.fillna(0, inplace=True) \n",
    "\n",
    "        ### sort \n",
    "        df.sort_values(by='hex_id', inplace=True)  \n",
    "\n",
    "        ### generating 28x28 numpy volume map  \n",
    "        volume_map = df['value'].values.reshape((28, 28)) \n",
    "    else: \n",
    "        volume_map = np.zeros((28, 28))\n",
    "\n",
    "    return volume_map "
   ]
  },
  {
   "cell_type": "code",
   "execution_count": 7,
   "id": "d876bad8",
   "metadata": {},
   "outputs": [],
   "source": [
    "interval = 10 \n",
    "\n",
    "volume_maps = np.load(\"volume_maps_interval_{}.npy\".format(interval))"
   ]
  },
  {
   "cell_type": "code",
   "execution_count": 8,
   "id": "3fcf1993",
   "metadata": {},
   "outputs": [
    {
     "data": {
      "text/plain": [
       "61055"
      ]
     },
     "execution_count": 8,
     "metadata": {},
     "output_type": "execute_result"
    }
   ],
   "source": [
    "len(volume_maps) "
   ]
  },
  {
   "cell_type": "code",
   "execution_count": 9,
   "id": "41f77c61",
   "metadata": {},
   "outputs": [],
   "source": [
    "train = volume_maps[:60000]   ## for train: 4000 frames \n",
    "test  = volume_maps[60000:]   ## for test: 415 frames "
   ]
  },
  {
   "cell_type": "code",
   "execution_count": 10,
   "id": "3db788bb",
   "metadata": {},
   "outputs": [],
   "source": [
    "def make_sequence(data, sequence_length): \n",
    "    main_list = [] \n",
    "    \n",
    "    for i in range(len(data) - sequence_length): \n",
    "        l = data[i:i+sequence_length]\n",
    "        l = np.array(l)\n",
    "        main_list.append(l)\n",
    "    \n",
    "    return np.array(main_list)"
   ]
  },
  {
   "cell_type": "code",
   "execution_count": 11,
   "id": "8fe439d9",
   "metadata": {},
   "outputs": [
    {
     "name": "stdout",
     "output_type": "stream",
     "text": [
      "[!] Shape of train sequence: (59995, 5, 28, 28, 1)\n",
      "[!] Shape of test sequence:  (1050, 5, 28, 28, 1)\n"
     ]
    }
   ],
   "source": [
    "sequence_length = 5 \n",
    "\n",
    "train_dataset = make_sequence(train, sequence_length)\n",
    "test_dataset  = make_sequence(test, sequence_length)\n",
    "\n",
    "# Add a channel dimension since the images are grayscale.\n",
    "train_dataset = np.expand_dims(train_dataset, axis=-1)\n",
    "test_dataset  = np.expand_dims(test_dataset, axis=-1)\n",
    "\n",
    "print(\"[!] Shape of train sequence: {}\".format(train_dataset.shape))\n",
    "print(\"[!] Shape of test sequence:  {}\".format(test_dataset.shape))"
   ]
  },
  {
   "cell_type": "code",
   "execution_count": 12,
   "id": "c82568f3",
   "metadata": {},
   "outputs": [
    {
     "name": "stdout",
     "output_type": "stream",
     "text": [
      "Displaying volume maps for example 59340.\n"
     ]
    },
    {
     "data": {
      "image/png": "[encoded data removed]",
      "text/plain": [
       "<Figure size 720x576 with 5 Axes>"
      ]
     },
     "metadata": {
      "needs_background": "light"
     },
     "output_type": "display_data"
    }
   ],
   "source": [
    "# Construct a figure on which we will visualize the images.\n",
    "fig, axes = plt.subplots(1, 5, figsize=(10, 8))\n",
    "\n",
    "# Plot each of the sequential images for one random data example.\n",
    "data_choice = np.random.choice(range(len(train_dataset)), size=1)[0]\n",
    "for idx, ax in enumerate(axes.flat):\n",
    "    ax.imshow(np.squeeze(train_dataset[data_choice][idx]), cmap=\"gray\")\n",
    "    ax.set_title(f\"Volume map {idx + 1}\")\n",
    "    ax.axis(\"off\")\n",
    "\n",
    "# Print information and display the figure.\n",
    "print(f\"Displaying volume maps for example {data_choice}.\")\n",
    "plt.show() "
   ]
  },
  {
   "cell_type": "code",
   "execution_count": 13,
   "id": "3583c8dd",
   "metadata": {},
   "outputs": [],
   "source": [
    "def create_shifted_frames(data):\n",
    "    x = data[:, 0 : data.shape[1] - 1, :, :]\n",
    "    y = data[:, 4 : data.shape[1], :, :]\n",
    "    return x, np.squeeze(y, axis=1)"
   ]
  },
  {
   "cell_type": "code",
   "execution_count": 14,
   "id": "d8c79bac",
   "metadata": {},
   "outputs": [],
   "source": [
    "# Normalize the data to the 0-1 range.\n",
    "train_dataset = train_dataset / 255\n",
    "test_dataset = test_dataset / 255"
   ]
  },
  {
   "cell_type": "code",
   "execution_count": 15,
   "id": "1e6b8252",
   "metadata": {},
   "outputs": [],
   "source": [
    "from tensorflow.keras import backend as K \n",
    "\n",
    "# Function for measuring how similar two images are\n",
    "def perceptual_distance(y_true, y_pred):\n",
    "    y_true *= 255.\n",
    "    y_pred *= 255.\n",
    "    rmean = (y_true[:, :, :, 0] + y_pred[:, :, :, 0]) / 2\n",
    "    r = y_true[:, :, :, 0] - y_pred[:, :, :, 0]\n",
    "    g = y_true[:, :, :, 0] - y_pred[:, :, :, 0]\n",
    "    b = y_true[:, :, :, 0] - y_pred[:, :, :, 0]\n",
    "\n",
    "    return K.mean(K.sqrt((((512+rmean)*r*r)/256) + 4*g*g + (((767-rmean)*b*b)/256)))"
   ]
  },
  {
   "cell_type": "code",
   "execution_count": 16,
   "id": "069e025c",
   "metadata": {},
   "outputs": [
    {
     "name": "stdout",
     "output_type": "stream",
     "text": [
      "Training Dataset Shapes: (59995, 4, 28, 28, 1), (59995, 28, 28, 1)\n",
      "Validation Dataset Shapes: (1050, 4, 28, 28, 1), (1050, 28, 28, 1)\n"
     ]
    }
   ],
   "source": [
    "# Apply the processing function to the datasets.\n",
    "x_train, y_train = create_shifted_frames(train_dataset)\n",
    "x_val, y_val = create_shifted_frames(test_dataset)\n",
    "\n",
    "# Inspect the dataset.\n",
    "print(\"Training Dataset Shapes: \" + str(x_train.shape) + \", \" + str(y_train.shape))\n",
    "print(\"Validation Dataset Shapes: \" + str(x_val.shape) + \", \" + str(y_val.shape))"
   ]
  },
  {
   "cell_type": "code",
   "execution_count": 18,
   "id": "637f0fee",
   "metadata": {
    "scrolled": true
   },
   "outputs": [
    {
     "name": "stdout",
     "output_type": "stream",
     "text": [
      "Train on 59995 samples, validate on 1050 samples\n",
      "Epoch 1/35\n",
      "59995/59995 [==============================] - 453s 8ms/step - loss: 0.0030 - perceptual_distance: 9.2256 - val_loss: 4.3596e-06 - val_perceptual_distance: 0.6550\n",
      "Epoch 2/35\n",
      "59995/59995 [==============================] - 448s 7ms/step - loss: 1.2227e-05 - perceptual_distance: 1.0757 - val_loss: 2.1510e-06 - val_perceptual_distance: 0.3964\n",
      "Epoch 3/35\n",
      "59995/59995 [==============================] - 471s 8ms/step - loss: 3.1365e-06 - perceptual_distance: 0.5500 - val_loss: 1.9640e-06 - val_perceptual_distance: 0.3351\n",
      "Epoch 4/35\n",
      "59995/59995 [==============================] - 457s 8ms/step - loss: 1.9635e-06 - perceptual_distance: 0.4321 - val_loss: 2.7577e-06 - val_perceptual_distance: 0.6060\n",
      "Epoch 5/35\n",
      "59995/59995 [==============================] - 469s 8ms/step - loss: 2.0569e-06 - perceptual_distance: 0.4200 - val_loss: 1.8475e-06 - val_perceptual_distance: 0.3256\n",
      "Epoch 6/35\n",
      "59995/59995 [==============================] - 479s 8ms/step - loss: 1.4651e-06 - perceptual_distance: 0.3591 - val_loss: 1.8551e-06 - val_perceptual_distance: 0.3628\n",
      "Epoch 7/35\n",
      "59995/59995 [==============================] - 476s 8ms/step - loss: 1.4298e-06 - perceptual_distance: 0.3523 - val_loss: 1.8973e-06 - val_perceptual_distance: 0.5357\n",
      "Epoch 8/35\n",
      "59995/59995 [==============================] - 474s 8ms/step - loss: 1.4615e-06 - perceptual_distance: 0.3535 - val_loss: 1.8710e-06 - val_perceptual_distance: 0.3790\n",
      "Epoch 9/35\n",
      "59995/59995 [==============================] - 473s 8ms/step - loss: 1.4180e-06 - perceptual_distance: 0.3546 - val_loss: 1.8455e-06 - val_perceptual_distance: 0.2767\n",
      "Epoch 10/35\n",
      "59995/59995 [==============================] - 473s 8ms/step - loss: 1.4044e-06 - perceptual_distance: 0.3555 - val_loss: 1.9135e-06 - val_perceptual_distance: 0.4637\n",
      "Epoch 11/35\n",
      "59995/59995 [==============================] - 477s 8ms/step - loss: 1.3999e-06 - perceptual_distance: 0.3572 - val_loss: 1.7878e-06 - val_perceptual_distance: 0.3985\n",
      "Epoch 12/35\n",
      "59995/59995 [==============================] - 475s 8ms/step - loss: 1.3809e-06 - perceptual_distance: 0.3513 - val_loss: 1.8241e-06 - val_perceptual_distance: 0.4539\n",
      "Epoch 13/35\n",
      "59995/59995 [==============================] - 475s 8ms/step - loss: 1.3863e-06 - perceptual_distance: 0.3513 - val_loss: 1.8004e-06 - val_perceptual_distance: 0.4233\n",
      "Epoch 14/35\n",
      "59995/59995 [==============================] - 473s 8ms/step - loss: 1.3890e-06 - perceptual_distance: 0.3518 - val_loss: 1.7972e-06 - val_perceptual_distance: 0.4087\n",
      "Epoch 15/35\n",
      "59995/59995 [==============================] - 477s 8ms/step - loss: 1.3761e-06 - perceptual_distance: 0.3470 - val_loss: 1.9496e-06 - val_perceptual_distance: 0.4067\n",
      "Epoch 16/35\n",
      "59995/59995 [==============================] - 476s 8ms/step - loss: 1.3745e-06 - perceptual_distance: 0.3466 - val_loss: 1.8842e-06 - val_perceptual_distance: 0.4961\n",
      "Epoch 17/35\n",
      "59995/59995 [==============================] - 476s 8ms/step - loss: 1.3476e-06 - perceptual_distance: 0.3532 - val_loss: 1.7165e-06 - val_perceptual_distance: 0.3715\n",
      "Epoch 18/35\n",
      "59995/59995 [==============================] - 478s 8ms/step - loss: 1.3375e-06 - perceptual_distance: 0.3495 - val_loss: 1.7541e-06 - val_perceptual_distance: 0.4114\n",
      "Epoch 19/35\n",
      "59995/59995 [==============================] - 473s 8ms/step - loss: 1.3238e-06 - perceptual_distance: 0.3493 - val_loss: 1.7641e-06 - val_perceptual_distance: 0.3241\n",
      "Epoch 20/35\n",
      "59995/59995 [==============================] - 477s 8ms/step - loss: 1.3090e-06 - perceptual_distance: 0.3570 - val_loss: 1.8839e-06 - val_perceptual_distance: 0.4787\n",
      "Epoch 21/35\n",
      "59995/59995 [==============================] - 477s 8ms/step - loss: 1.2803e-06 - perceptual_distance: 0.3555 - val_loss: 1.7690e-06 - val_perceptual_distance: 0.3650\n",
      "Epoch 22/35\n",
      "59995/59995 [==============================] - 476s 8ms/step - loss: 1.2777e-06 - perceptual_distance: 0.3550 - val_loss: 1.6400e-06 - val_perceptual_distance: 0.3783\n",
      "Epoch 23/35\n",
      "59995/59995 [==============================] - 472s 8ms/step - loss: 1.2751e-06 - perceptual_distance: 0.3560 - val_loss: 1.7686e-06 - val_perceptual_distance: 0.4988\n",
      "Epoch 24/35\n",
      "59995/59995 [==============================] - 448s 7ms/step - loss: 1.2700e-06 - perceptual_distance: 0.3543 - val_loss: 1.6295e-06 - val_perceptual_distance: 0.3554\n",
      "Epoch 25/35\n",
      "59995/59995 [==============================] - 449s 7ms/step - loss: 1.2703e-06 - perceptual_distance: 0.3541 - val_loss: 1.7475e-06 - val_perceptual_distance: 0.4770\n",
      "Epoch 26/35\n",
      "59995/59995 [==============================] - 444s 7ms/step - loss: 1.2594e-06 - perceptual_distance: 0.3522 - val_loss: 1.7704e-06 - val_perceptual_distance: 0.5219\n",
      "Epoch 27/35\n",
      "59995/59995 [==============================] - 448s 7ms/step - loss: 1.2561e-06 - perceptual_distance: 0.3509 - val_loss: 1.8126e-06 - val_perceptual_distance: 0.4907\n",
      "Epoch 28/35\n",
      "59995/59995 [==============================] - 448s 7ms/step - loss: 1.2520e-06 - perceptual_distance: 0.3502 - val_loss: 1.6441e-06 - val_perceptual_distance: 0.3945\n",
      "Epoch 29/35\n",
      "59995/59995 [==============================] - 448s 7ms/step - loss: 1.2474e-06 - perceptual_distance: 0.3489 - val_loss: 1.9761e-06 - val_perceptual_distance: 0.6621\n",
      "Epoch 30/35\n",
      "59995/59995 [==============================] - 451s 8ms/step - loss: 1.2450e-06 - perceptual_distance: 0.3479 - val_loss: 1.6799e-06 - val_perceptual_distance: 0.4569\n",
      "Epoch 31/35\n",
      "59995/59995 [==============================] - 445s 7ms/step - loss: 1.2429e-06 - perceptual_distance: 0.3476 - val_loss: 1.7650e-06 - val_perceptual_distance: 0.3682\n",
      "Epoch 32/35\n",
      "59995/59995 [==============================] - 448s 7ms/step - loss: 1.2434e-06 - perceptual_distance: 0.3470 - val_loss: 2.4105e-06 - val_perceptual_distance: 0.6116\n",
      "Epoch 33/35\n",
      "59995/59995 [==============================] - 446s 7ms/step - loss: 1.2377e-06 - perceptual_distance: 0.3439 - val_loss: 1.8686e-06 - val_perceptual_distance: 0.6093\n",
      "Epoch 34/35\n",
      "59995/59995 [==============================] - 449s 7ms/step - loss: 1.2369e-06 - perceptual_distance: 0.3444 - val_loss: 1.6194e-06 - val_perceptual_distance: 0.3850\n",
      "Epoch 35/35\n",
      "59995/59995 [==============================] - 447s 7ms/step - loss: 1.2370e-06 - perceptual_distance: 0.3434 - val_loss: 1.6527e-06 - val_perceptual_distance: 0.4585\n",
      "Model: \"model_2\"\n",
      "__________________________________________________________________________________________________\n",
      "Layer (type)                    Output Shape         Param #     Connected to                     \n",
      "==================================================================================================\n",
      "input_2 (InputLayer)            (None, 4, 28, 28, 1) 0                                            \n",
      "__________________________________________________________________________________________________\n",
      "conv_lstm1 (ConvLSTM2D)         (None, 4, 28, 28, 4) 736         input_2[0][0]                    \n",
      "__________________________________________________________________________________________________\n",
      "batch_normalization_6 (BatchNor (None, 4, 28, 28, 4) 16          conv_lstm1[0][0]                 \n",
      "__________________________________________________________________________________________________\n",
      "time_distributed_5 (TimeDistrib (None, 4, 14, 14, 4) 0           batch_normalization_6[0][0]      \n",
      "__________________________________________________________________________________________________\n",
      "conv_lstm3 (ConvLSTM2D)         (None, 4, 14, 14, 8) 3488        time_distributed_5[0][0]         \n",
      "__________________________________________________________________________________________________\n",
      "batch_normalization_7 (BatchNor (None, 4, 14, 14, 8) 32          conv_lstm3[0][0]                 \n",
      "__________________________________________________________________________________________________\n",
      "time_distributed_6 (TimeDistrib (None, 4, 7, 7, 8)   0           batch_normalization_7[0][0]      \n",
      "__________________________________________________________________________________________________\n",
      "conv_lstm4 (ConvLSTM2D)         (None, 4, 7, 7, 16)  13888       time_distributed_6[0][0]         \n",
      "__________________________________________________________________________________________________\n",
      "time_distributed_7 (TimeDistrib (None, 4, 14, 14, 16 0           conv_lstm4[0][0]                 \n",
      "__________________________________________________________________________________________________\n",
      "conv_lstm5 (ConvLSTM2D)         (None, 4, 14, 14, 16 18496       time_distributed_7[0][0]         \n",
      "__________________________________________________________________________________________________\n",
      "batch_normalization_8 (BatchNor (None, 4, 14, 14, 16 64          conv_lstm5[0][0]                 \n",
      "__________________________________________________________________________________________________\n",
      "conv_lstm6 (ConvLSTM2D)         (None, 4, 14, 14, 8) 6944        batch_normalization_8[0][0]      \n",
      "__________________________________________________________________________________________________\n",
      "batch_normalization_9 (BatchNor (None, 4, 14, 14, 8) 32          conv_lstm6[0][0]                 \n",
      "__________________________________________________________________________________________________\n",
      "add_2 (Add)                     (None, 4, 14, 14, 8) 0           batch_normalization_7[0][0]      \n",
      "                                                                 batch_normalization_9[0][0]      \n",
      "__________________________________________________________________________________________________\n",
      "dropout_6 (Dropout)             (None, 4, 14, 14, 8) 0           add_2[0][0]                      \n",
      "__________________________________________________________________________________________________\n",
      "time_distributed_8 (TimeDistrib (None, 4, 28, 28, 8) 0           dropout_6[0][0]                  \n",
      "__________________________________________________________________________________________________\n",
      "permute_2 (Permute)             (None, 28, 28, 1, 4) 0           input_2[0][0]                    \n",
      "__________________________________________________________________________________________________\n",
      "conv_lstm7 (ConvLSTM2D)         (None, 28, 28, 4)    1744        time_distributed_8[0][0]         \n",
      "__________________________________________________________________________________________________\n",
      "lambda_2 (Lambda)               (None, 28, 28, 1)    0           permute_2[0][0]                  \n",
      "__________________________________________________________________________________________________\n",
      "batch_normalization_10 (BatchNo (None, 28, 28, 4)    16          conv_lstm7[0][0]                 \n",
      "__________________________________________________________________________________________________\n",
      "concatenate_2 (Concatenate)     (None, 28, 28, 5)    0           lambda_2[0][0]                   \n",
      "                                                                 batch_normalization_10[0][0]     \n",
      "__________________________________________________________________________________________________\n",
      "conv2d_2 (Conv2D)               (None, 28, 28, 1)    6           concatenate_2[0][0]              \n",
      "==================================================================================================\n",
      "Total params: 45,462\n",
      "Trainable params: 45,382\n",
      "Non-trainable params: 80\n",
      "__________________________________________________________________________________________________\n"
     ]
    }
   ],
   "source": [
    "from keras.layers import Lambda, Reshape, Permute, Input, add, Conv3D, GaussianNoise, concatenate\n",
    "from keras.layers import ConvLSTM2D, BatchNormalization, TimeDistributed, Add\n",
    "from keras.layers import Conv2D, MaxPooling2D, Dropout, Dense, Flatten, UpSampling2D\n",
    "\n",
    "from keras.models import Model\n",
    "\n",
    "def slice(x):\n",
    "    return x[:,:,:,:, -1]\n",
    "\n",
    "# wandb.init(config=hyperparams)\n",
    "# config = wandb.config\n",
    "\n",
    "c=4\n",
    "\n",
    "inp = Input((4, 28, 28, 1))\n",
    "# reshaped = Reshape((28,28,4,1))(inp)     # input_shape=(96,96,3,5) \n",
    "permuted = Permute((2,3,4,1))(inp)\n",
    "last_layer = Lambda(slice, input_shape=(28,28,1,4), output_shape=(28,28,1))(permuted)\n",
    "# x = Permute((4,1,2,3))(noise)\n",
    "x =(ConvLSTM2D(filters=c, kernel_size=(3,3),padding='same',name='conv_lstm1', return_sequences=True))(inp)\n",
    "\n",
    "c1=(BatchNormalization())(x)\n",
    "x = Dropout(0.2)(x)\n",
    "x =(TimeDistributed(MaxPooling2D(pool_size=(2,2))))(c1)\n",
    "\n",
    "x =(ConvLSTM2D(filters=2*c,kernel_size=(3,3),padding='same',name='conv_lstm3',return_sequences=True))(x)\n",
    "c2=(BatchNormalization())(x)\n",
    "x = Dropout(0.2)(x)\n",
    "\n",
    "x =(TimeDistributed(MaxPooling2D(pool_size=(2,2))))(c2)\n",
    "x =(ConvLSTM2D(filters=4*c,kernel_size=(3,3),padding='same',name='conv_lstm4',return_sequences=True))(x)\n",
    "\n",
    "x =(TimeDistributed(UpSampling2D(size=(2, 2))))(x)\n",
    "x =(ConvLSTM2D(filters=4*c,kernel_size=(3,3),padding='same',name='conv_lstm5',return_sequences=True))(x)\n",
    "x =(BatchNormalization())(x)\n",
    "\n",
    "x =(ConvLSTM2D(filters=2*c,kernel_size=(3,3),padding='same',name='conv_lstm6',return_sequences=True))(x)\n",
    "x =(BatchNormalization())(x)\n",
    "x = Add()([c2, x])\n",
    "x = Dropout(0.2)(x)\n",
    "\n",
    "x =(TimeDistributed(UpSampling2D(size=(2, 2))))(x)\n",
    "x =(ConvLSTM2D(filters=c,kernel_size=(3,3),padding='same',name='conv_lstm7',return_sequences=False))(x)\n",
    "x =(BatchNormalization())(x)\n",
    "combined = concatenate([last_layer, x])\n",
    "combined = Conv2D(1, (1,1))(combined)\n",
    "model=Model(inputs=[inp], outputs=[combined])\n",
    "# model=Model(inputs=[inp], outputs=x) \n",
    "\n",
    "# opt = tf.keras.optimizers.RMSprop(learning_rate=0.001)\n",
    "\n",
    "model.compile(optimizer=\"adam\", loss='mse', metrics=[perceptual_distance])  # adam, binary_crossentropy \n",
    "\n",
    "# Define modifiable training hyperparameters.\n",
    "epochs = 35\n",
    "batch_size = 16\n",
    "\n",
    "# Fit the model to the training data.\n",
    "model.fit(\n",
    "    x_train,\n",
    "    y_train,\n",
    "    batch_size=batch_size,\n",
    "    epochs=epochs,\n",
    "    validation_data=(x_val, y_val),\n",
    "#     callbacks=[early_stopping, reduce_lr],\n",
    ")\n",
    "model.summary()"
   ]
  },
  {
   "cell_type": "code",
   "execution_count": 94,
   "id": "87279dc1",
   "metadata": {},
   "outputs": [
    {
     "name": "stdout",
     "output_type": "stream",
     "text": [
      "Displaying volume maps for example 59340.\n"
     ]
    },
    {
     "data": {
      "image/png": "[encoded data removed]",
      "text/plain": [
       "<Figure size 720x576 with 5 Axes>"
      ]
     },
     "metadata": {
      "needs_background": "light"
     },
     "output_type": "display_data"
    }
   ],
   "source": [
    "# Select a random example from the validation dataset.\n",
    "example = test_dataset[np.random.choice(range(len(test_dataset)), size=1)[0]]\n",
    "\n",
    "# example = test_dataset[2972]\n",
    "\n",
    "# Construct a figure on which we will visualize the images.\n",
    "fig, axes = plt.subplots(1, 5, figsize=(10, 8))\n",
    "\n",
    "for idx, ax in enumerate(axes.flat):\n",
    "    ax.imshow(np.squeeze(example[idx]), cmap=\"gray\")\n",
    "    ax.set_title(f\"Volume map {idx + 1}\")\n",
    "    ax.axis(\"off\")\n",
    "\n",
    "# Print information and display the figure.\n",
    "print(f\"Displaying volume maps for example {data_choice}.\")\n",
    "plt.show() "
   ]
  },
  {
   "cell_type": "code",
   "execution_count": 95,
   "id": "fefb6416",
   "metadata": {},
   "outputs": [],
   "source": [
    "# Pick the first/last ten frames from the example.\n",
    "frames = example[:4, ...]\n",
    "original_frames = example[1:, ...]\n",
    "\n",
    "# Predict a new set\n",
    "new_prediction = model.predict(np.expand_dims(frames, axis=0))\n",
    "# new_prediction = np.squeeze(new_prediction, axis=0)\n",
    "# predicted_frame = np.expand_dims(new_prediction[-1, ...], axis=0)"
   ]
  },
  {
   "cell_type": "code",
   "execution_count": 96,
   "id": "27778714",
   "metadata": {},
   "outputs": [
    {
     "data": {
      "text/plain": [
       "(28, 28, 1)"
      ]
     },
     "execution_count": 96,
     "metadata": {},
     "output_type": "execute_result"
    }
   ],
   "source": [
    "new_prediction[0].shape"
   ]
  },
  {
   "cell_type": "code",
   "execution_count": 97,
   "id": "0faf0c1d",
   "metadata": {},
   "outputs": [
    {
     "name": "stdout",
     "output_type": "stream",
     "text": [
      "Predicted map\n"
     ]
    },
    {
     "data": {
      "image/png": "[encoded data removed]",
      "text/plain": [
       "<Figure size 288x288 with 1 Axes>"
      ]
     },
     "metadata": {
      "needs_background": "light"
     },
     "output_type": "display_data"
    }
   ],
   "source": [
    "print(\"Predicted map\")\n",
    "\n",
    "plt.figure(figsize = (4, 4))\n",
    "\n",
    "plt.imshow(np.round(new_prediction[0]*255, 0) , cmap='gray', interpolation='nearest')\n",
    "plt.show()"
   ]
  },
  {
   "cell_type": "code",
   "execution_count": 98,
   "id": "b5255d47",
   "metadata": {},
   "outputs": [
    {
     "data": {
      "text/plain": [
       "117.2"
      ]
     },
     "execution_count": 98,
     "metadata": {},
     "output_type": "execute_result"
    }
   ],
   "source": [
    "(np.round(new_prediction[0]*255, 1)).sum()"
   ]
  },
  {
   "cell_type": "code",
   "execution_count": 99,
   "id": "7d63dccc",
   "metadata": {},
   "outputs": [
    {
     "data": {
      "text/plain": [
       "86.0"
      ]
     },
     "execution_count": 99,
     "metadata": {},
     "output_type": "execute_result"
    }
   ],
   "source": [
    "(example[-1, ...]*255).sum()"
   ]
  },
  {
   "cell_type": "code",
   "execution_count": 100,
   "id": "7bc58989",
   "metadata": {},
   "outputs": [
    {
     "name": "stdout",
     "output_type": "stream",
     "text": [
      "Original map\n"
     ]
    },
    {
     "data": {
      "image/png": "[encoded data removed]",
      "text/plain": [
       "<Figure size 288x288 with 1 Axes>"
      ]
     },
     "metadata": {
      "needs_background": "light"
     },
     "output_type": "display_data"
    }
   ],
   "source": [
    "print(\"Original map\")\n",
    "\n",
    "plt.figure(figsize = (4, 4))\n",
    "\n",
    "plt.imshow(example[-1, ...]*255, cmap='gray', interpolation='nearest')\n",
    "plt.show()"
   ]
  },
  {
   "cell_type": "code",
   "execution_count": null,
   "id": "ec1e4297",
   "metadata": {},
   "outputs": [],
   "source": []
  }
 ],
 "metadata": {
  "kernelspec": {
   "display_name": "Python 3 (ipykernel)",
   "language": "python",
   "name": "python3"
  },
  "language_info": {
   "codemirror_mode": {
    "name": "ipython",
    "version": 3
   },
   "file_extension": ".py",
   "mimetype": "text/x-python",
   "name": "python",
   "nbconvert_exporter": "python",
   "pygments_lexer": "ipython3",
   "version": "3.8.13"
  }
 },
 "nbformat": 4,
 "nbformat_minor": 5
}
